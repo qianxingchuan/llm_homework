{
 "cells": [
  {
   "cell_type": "code",
   "execution_count": 1,
   "id": "265b5378-fad3-414d-a38c-1a0284a2b14a",
   "metadata": {
    "tags": []
   },
   "outputs": [
    {
     "name": "stderr",
     "output_type": "stream",
     "text": [
      "Special tokens have been added in the vocabulary, make sure the associated word embeddings are fine-tuned or trained.\n"
     ]
    },
    {
     "data": {
      "application/vnd.jupyter.widget-view+json": {
       "model_id": "884ee87a55844b1ab611d0c1cd0614fc",
       "version_major": 2,
       "version_minor": 0
      },
      "text/plain": [
       "Loading checkpoint shards:   0%|          | 0/4 [00:00<?, ?it/s]"
      ]
     },
     "metadata": {},
     "output_type": "display_data"
    },
    {
     "name": "stderr",
     "output_type": "stream",
     "text": [
      "/root/miniconda3/lib/python3.10/site-packages/transformers/generation/configuration_utils.py:509: UserWarning: `do_sample` is set to `False`. However, `top_k` is set to `1` -- this flag is only used in sample-based generation modes. You should set `do_sample=True` or unset `top_k`.\n",
      "  warnings.warn(\n"
     ]
    },
    {
     "name": "stdout",
     "output_type": "stream",
     "text": [
      "[gMASK] <sop> # language: Python\n",
      "# write a bubble sort function\n",
      "def bubble_sort(arr):\n",
      "    n = len(arr)\n",
      "    for i in range(n):\n",
      "        for j in range(0, n-i-1):\n",
      "            if arr[j] > arr[j+1]:\n",
      "                arr[j], arr[j+1] = arr[j+1], arr[j]\n",
      "    return arr\n",
      "\n",
      "# test the function\n",
      "arr = [64, 34, 25, 12, 22, 11, 90]\n",
      "print(\"Original array:\", arr)\n",
      "sorted_arr = bubble_sort(arr)\n",
      "print(\"Sorted array:\", sorted_arr)\n",
      " <|endoftext|>\n",
      "5.729821681976318\n"
     ]
    }
   ],
   "source": [
    "from transformers import AutoTokenizer, AutoModel\n",
    "import time\n",
    "\n",
    "tokenizer = AutoTokenizer.from_pretrained(\"/root/autodl-tmp/models/ZhipuAI/codegeex4-all-9b\", trust_remote_code=True)\n",
    "model = AutoModel.from_pretrained(\"/root/autodl-tmp/models/ZhipuAI/codegeex4-all-9b\", trust_remote_code=True, device='cuda')\n",
    "model = model.eval()\n",
    "\n",
    "# 添加language tag，性能会更好\n",
    "prompt = \"# language: Python\\n# write a bubble sort function\\n\"\n",
    "start_time = time.time()\n",
    "inputs = tokenizer.encode(prompt, return_tensors=\"pt\").to(model.device)\n",
    "outputs = model.generate(inputs, max_length=256, top_k=1)\n",
    "response = tokenizer.decode(outputs[0])\n",
    "print(response)\n",
    "end_time = time.time()\n",
    "print(end_time - start_time)"
   ]
  },
  {
   "cell_type": "code",
   "execution_count": 2,
   "id": "2838d023-b2ff-4c1f-a1cd-5827fd378b0a",
   "metadata": {
    "tags": []
   },
   "outputs": [
    {
     "name": "stdout",
     "output_type": "stream",
     "text": [
      "[gMASK] <sop> # language: Python\n",
      "# 写一个贪吃蛇的游戏\n",
      "# 使用pygame库\n",
      "import pygame\n",
      "import time\n",
      "import random\n",
      "\n",
      "pygame.init()\n",
      "\n",
      "# 定义颜色\n",
      "white = (255, 255, 255)\n",
      "yellow = (255, 255, 102)\n",
      "black = (0, 0, 0)\n",
      "red = (213, 50, 80)\n",
      "green = (0, 255, 0)\n",
      "blue = (50, 153, 213)\n",
      "\n",
      "# 定义窗口大小\n",
      "dis_width = 800\n",
      "dis_height = 600\n",
      "\n",
      "# 创建窗口\n",
      "dis = pygame.display.set_mode((dis_width, dis_height))\n",
      "pygame.display.set_caption('贪吃蛇游戏')\n",
      "\n",
      "clock = pygame.time.Clock()\n",
      "\n",
      "snake_block = 10\n",
      "snake_speed = 15\n",
      "\n",
      "font_style = pygame.font.SysFont(None, 50)\n",
      "score_font = pygame.font.SysFont(None, 35)\n",
      "\n",
      "\n",
      "def our_snake(snake_block, snake_list):\n",
      "    for x in snake_list:\n",
      "        pygame.draw.rect(dis, black, [x[0], x[1], snake_block, snake_block])\n",
      "\n",
      "\n",
      "def message(msg, color):\n",
      "    mesg = font_style.render(msg, True, color)\n",
      "    dis.blit(mesg, [dis_width / 6, dis_height / 3])\n",
      "\n",
      "\n",
      "def gameLoop():\n",
      "    game_over = False\n",
      "    game_close = False\n",
      "\n",
      "    x1 = dis_width / 2\n",
      "    y1 = dis_height / 2\n",
      "\n",
      "    x1_change = 0\n",
      "    y1_change = 0\n",
      "\n",
      "    snake_List = []\n",
      "    Length_of_snake = 1\n",
      "\n",
      "    foodx = round(random.randrange(0, dis_width - snake_block) / 10.0) * 10.0\n",
      "    foody = round(random.randrange(0, dis_height - snake_block) / 10.0) * 10.0\n",
      "\n",
      "    while not game_over:\n",
      "\n",
      "        while game_close == True:\n",
      "            dis.fill(blue)\n",
      "            message(\"你输了！按Q-退出或C-重新开始\", red)\n",
      "            pygame.display.update()\n",
      "\n",
      "            for event in pygame.event.get():\n",
      "                if event.type == pygame.KEYDOWN:\n",
      "                    if event.key == pygame.K_q:\n",
      "                        game_over = True\n",
      "                        game_close = False\n",
      "                    if event.key == pygame.K_c:\n",
      "                        gameLoop()\n",
      "\n",
      "        for event in pygame.event.get():\n",
      "            if event.type == pygame.QUIT:\n",
      "                game_over = True\n",
      "            if event.type == pygame.KEYDOWN:\n",
      "                if event.key == pygame.K_LEFT:\n",
      "                    x1_change = -snake_block\n",
      "                    y1_change = 0\n",
      "                elif event.key == pygame.K_RIGHT:\n",
      "                    x1_change = snake_block\n",
      "                    y1_change = 0\n",
      "                elif event.key == pygame.K_UP:\n",
      "                    y1_change = -snake_block\n",
      "                    x1_change = 0\n",
      "                elif event.key == pygame.K_DOWN:\n",
      "                    y1_change = snake_block\n",
      "                    x1_change = 0\n",
      "\n",
      "        if x1 >= dis_width or x1 < 0 or y1 >= dis_height or y1 < 0:\n",
      "            game_close = True\n",
      "        x1 += x1_change\n",
      "        y1 += y1_change\n",
      "        dis.fill(blue)\n",
      "        pygame.draw.rect(dis, green, [foodx, foody, snake_block, snake_block])\n",
      "        snake_Head = []\n",
      "        snake_Head.append(x1)\n",
      "        snake_Head.append(y1)\n",
      "        snake_List.append(snake_Head)\n",
      "        if len(snake_List) > Length_of_snake:\n",
      "            del snake_List[0]\n",
      "\n",
      "        for x in snake_List[:-1]:\n",
      "            if x == snake_Head:\n",
      "                game_close = True\n",
      "\n",
      "        our_snake(snake_block, snake_List)\n",
      "        pygame.display.update()\n",
      "\n",
      "        if x1 == foodx and y1 == foody:\n",
      "            foodx = round(random.randrange(0, dis_width - snake_block) / 10.0) * 10.0\n",
      "            foody = round(random.randrange(0, dis_height - snake_block) / 10.0) * 10.0\n",
      "            Length_of_snake += 1\n",
      "\n",
      "        clock.tick(snake_speed)\n",
      "\n",
      "    pygame.quit()\n",
      "    quit()\n",
      "\n",
      "\n",
      "gameLoop()\n",
      " <|endoftext|>\n"
     ]
    }
   ],
   "source": [
    "#prompt = \"# language: Python\\n# 编写贪吃蛇游戏\\n\"\n",
    "#prompt = \"# language: Python\\n# Write snake games\\n\"\n",
    "prompt = \"# language: Python\\n# 写一个贪吃蛇的游戏\\n\"\n",
    "inputs = tokenizer.encode(prompt, return_tensors=\"pt\").to(model.device)\n",
    "outputs = model.generate(inputs, max_length=4000, top_k=1)\n",
    "response = tokenizer.decode(outputs[0])\n",
    "print(response)"
   ]
  }
 ],
 "metadata": {
  "kernelspec": {
   "display_name": "Python 3 (ipykernel)",
   "language": "python",
   "name": "python3"
  },
  "language_info": {
   "codemirror_mode": {
    "name": "ipython",
    "version": 3
   },
   "file_extension": ".py",
   "mimetype": "text/x-python",
   "name": "python",
   "nbconvert_exporter": "python",
   "pygments_lexer": "ipython3",
   "version": "3.11.6"
  }
 },
 "nbformat": 4,
 "nbformat_minor": 5
}
