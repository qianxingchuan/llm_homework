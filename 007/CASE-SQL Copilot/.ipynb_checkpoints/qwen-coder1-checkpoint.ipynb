{
 "cells": [
  {
   "cell_type": "code",
   "execution_count": 1,
   "id": "81fd2543-207e-476a-858c-b668a6d3241c",
   "metadata": {},
   "outputs": [
    {
     "data": {
      "application/vnd.jupyter.widget-view+json": {
       "model_id": "ea655cf82ca24584b4200cc698da697a",
       "version_major": 2,
       "version_minor": 0
      },
      "text/plain": [
       "Loading checkpoint shards:   0%|          | 0/4 [00:00<?, ?it/s]"
      ]
     },
     "metadata": {},
     "output_type": "display_data"
    },
    {
     "name": "stderr",
     "output_type": "stream",
     "text": [
      "Special tokens have been added in the vocabulary, make sure the associated word embeddings are fine-tuned or trained.\n"
     ]
    }
   ],
   "source": [
    "from modelscope import AutoModelForCausalLM, AutoTokenizer\n",
    "model_name = \"/root/autodl-tmp/models/Qwen/Qwen2___5-Coder-7B-Instruct\"\n",
    "model = AutoModelForCausalLM.from_pretrained(\n",
    "    model_name,\n",
    "    torch_dtype=\"auto\",\n",
    "    device_map=\"auto\"\n",
    ")\n",
    "tokenizer = AutoTokenizer.from_pretrained(model_name)\n",
    "prompt = \"帮我编写一个二分法\"\n",
    "messages = [\n",
    "    {\"role\": \"system\", \"content\": \"You are a helpful assistant.\"},\n",
    "    {\"role\": \"user\", \"content\": prompt}\n",
    "]"
   ]
  },
  {
   "cell_type": "code",
   "execution_count": 6,
   "id": "897d2129-d5b5-4579-8e73-0a64a5b0897e",
   "metadata": {},
   "outputs": [],
   "source": [
    "#prompt = \"编写一个功能：给某个邮箱，发送一封邮件，用Java编写\"\n",
    "prompt = \"帮我编写用户登录的测试用例\"\n",
    "messages = [\n",
    "    {\"role\": \"system\", \"content\": \"You are a helpful assistant.\"},\n",
    "    {\"role\": \"user\", \"content\": prompt}\n",
    "]"
   ]
  },
  {
   "cell_type": "code",
   "execution_count": 7,
   "id": "56c61cd0-ced6-4c82-99c7-098672a55f8a",
   "metadata": {},
   "outputs": [
    {
     "name": "stdout",
     "output_type": "stream",
     "text": [
      " 编写用户登录的测试用例时，需要考虑多种情况，包括正常登录、用户名或密码错误、空输入等。以下是一个示例测试用例集，使用Python和Selenium WebDriver来实现。\n",
      "\n",
      "假设我们有一个简单的Web应用程序，其登录页面URL为`http://example.com/login`，用户名和密码的输入框分别有ID为`username`和`password`，登录按钮的ID为`login-button`。\n",
      "\n",
      "```python\n",
      "from selenium import webdriver\n",
      "from selenium.webdriver.common.by import By\n",
      "from selenium.webdriver.common.keys import Keys\n",
      "import time\n",
      "\n",
      "# 初始化WebDriver\n",
      "driver = webdriver.Chrome()\n",
      "\n",
      "# 测试用例1: 正常登录\n",
      "def test_login_success():\n",
      "    driver.get(\"http://example.com/login\")\n",
      "    \n",
      "    # 输入正确的用户名和密码\n",
      "    username_input = driver.find_element(By.ID, \"username\")\n",
      "    password_input = driver.find_element(By.ID, \"password\")\n",
      "    username_input.send_keys(\"correct_username\")\n",
      "    password_input.send_keys(\"correct_password\")\n",
      "    \n",
      "    # 点击登录按钮\n",
      "    login_button = driver.find_element(By.ID, \"login-button\")\n",
      "    login_button.click()\n",
      "    \n",
      "    # 验证是否成功登录（例如检查某个特定元素是否存在）\n",
      "    assert \"Welcome\" in driver.page_source\n",
      "    \n",
      "    print(\"Test case 1 passed\")\n",
      "\n",
      "# 测试用例2: 用户名错误\n",
      "def test_login_failure_username():\n",
      "    driver.get(\"http://example.com/login\")\n",
      "    \n",
      "    # 输入错误的用户名和正确的密码\n",
      "    username_input = driver.find_element(By.ID, \"username\")\n",
      "    password_input = driver.find_element(By.ID, \"password\")\n",
      "    username_input.send_keys(\"incorrect_username\")\n",
      "    password_input.send_keys(\"correct_password\")\n",
      "    \n",
      "    # 点击登录按钮\n",
      "    login_button = driver.find_element(By.ID, \"login-button\")\n",
      "    login_button.click()\n",
      "    \n",
      "    # 验证是否登录失败（例如检查错误消息是否存在）\n",
      "    error_message = driver.find_element(By.CLASS_NAME, \"error-message\")\n",
      "    assert \"Invalid username or password\" in error_message.text\n",
      "    \n",
      "    print(\"Test case 2 passed\")\n",
      "\n",
      "# 测试用例3: 密码错误\n",
      "def test_login_failure_password():\n",
      "    driver.get(\"http://example.com/login\")\n",
      "    \n",
      "    # 输入正确的用户名和错误的密码\n",
      "    username_input = driver.find_element(By.ID, \"username\")\n",
      "    password_input = driver.find_element(By.ID, \"password\")\n",
      "    username_input.send_keys(\"correct_username\")\n",
      "\n"
     ]
    }
   ],
   "source": [
    "text = tokenizer.apply_chat_template(\n",
    "    messages,\n",
    "    tokenize=False,\n",
    "    add_generation_prompt=True\n",
    ")\n",
    "model_inputs = tokenizer([text], return_tensors=\"pt\").to(model.device)\n",
    "generated_ids = model.generate(\n",
    "    **model_inputs,\n",
    "    max_new_tokens=512\n",
    ")\n",
    "generated_ids = [\n",
    "    output_ids[len(input_ids):] for input_ids, output_ids in zip(model_inputs.input_ids, generated_ids)\n",
    "]\n",
    "response = tokenizer.batch_decode(generated_ids, skip_special_tokens=True)[0]\n",
    "print(response)"
   ]
  }
 ],
 "metadata": {
  "kernelspec": {
   "display_name": "Python 3 (ipykernel)",
   "language": "python",
   "name": "python3"
  },
  "language_info": {
   "codemirror_mode": {
    "name": "ipython",
    "version": 3
   },
   "file_extension": ".py",
   "mimetype": "text/x-python",
   "name": "python",
   "nbconvert_exporter": "python",
   "pygments_lexer": "ipython3",
   "version": "3.10.8"
  }
 },
 "nbformat": 4,
 "nbformat_minor": 5
}
