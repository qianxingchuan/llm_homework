{
 "cells": [
  {
   "cell_type": "code",
   "execution_count": null,
   "id": "56606bcc-e2a8-4dab-88f9-f7c9ab0dd9ad",
   "metadata": {},
   "outputs": [
    {
     "name": "stdout",
     "output_type": "stream",
     "text": [
      "成功连接到MySQL数据库\n",
      "正在训练表 address 的schema...\n",
      "Adding ddl: CREATE TABLE `address` (\n",
      "  `AddressId` int DEFAULT NULL,\n",
      "  `PersonId` int DEFAULT NULL,\n",
      "  `City` varchar(255) CHARACTER SET utf8mb4 COLLATE utf8mb4_0900_ai_ci DEFAULT NULL,\n",
      "  `State` varchar(255) CHARACTER SET utf8mb4 COLLATE utf8mb4_0900_ai_ci DEFAULT NULL\n",
      ") ENGINE=InnoDB DEFAULT CHARSET=utf8mb4 COLLATE=utf8mb4_0900_ai_ci\n"
     ]
    },
    {
     "name": "stderr",
     "output_type": "stream",
     "text": [
      "Add of existing embedding ID: 968ca8d9-6a7d-5591-a2f7-f1e3f74f2dec-ddl\n",
      "Add of existing embedding ID: 592b142c-16ab-5714-990b-40d46d654d74-ddl\n",
      "Add of existing embedding ID: ad2162eb-7d2c-5b00-ae6c-a3e34012c9b7-ddl\n",
      "Add of existing embedding ID: 116ea84c-eb03-5273-b8bf-c0bb972abd35-ddl\n",
      "Add of existing embedding ID: 3eaa085d-6546-5717-bffa-e4ef824262e8-ddl\n",
      "Add of existing embedding ID: 48442f30-bd8e-5f2a-bdd6-b2c14f56afae-ddl\n",
      "Add of existing embedding ID: ace310a8-97a0-520e-b9eb-cd61eeb9d71a-ddl\n",
      "Add of existing embedding ID: 03dc29b6-f9a3-5b4f-914b-c77f79cd9d73-ddl\n",
      "Add of existing embedding ID: f07056be-a094-5334-abf4-a3335ea9d581-ddl\n",
      "Add of existing embedding ID: a52fc03d-491d-5f32-a8cc-042c386766d6-ddl\n",
      "Add of existing embedding ID: 588c19a6-86be-5e8d-bbb6-2cb94688c657-ddl\n",
      "Add of existing embedding ID: d55fb937-f008-5c79-adf9-4a3ba980b270-ddl\n",
      "Add of existing embedding ID: 6fb181e6-83b6-52cd-ac16-10661684c2b9-ddl\n",
      "Add of existing embedding ID: 9582eef6-6225-5b39-a35b-ffaf22bfcb7c-ddl\n",
      "Add of existing embedding ID: dc08e8a6-9459-59d5-b31d-914564aed2fc-ddl\n",
      "Add of existing embedding ID: 6eede8de-5682-58ee-bcf4-701e63955803-ddl\n",
      "Add of existing embedding ID: ea67f184-5b8c-5628-ae62-1590de73e75c-ddl\n",
      "Add of existing embedding ID: 77a616a4-0097-591c-baca-6a3a2114edaa-ddl\n",
      "Add of existing embedding ID: c2ffcb9d-fd57-502b-9987-e0457ce477b8-ddl\n",
      "Add of existing embedding ID: 708d59ee-9d7d-59b7-b6ba-7ceaf14993dd-ddl\n",
      "Add of existing embedding ID: bde85cb8-9900-54d4-9258-f9d069c84398-ddl\n",
      "Add of existing embedding ID: 57a7f9e7-6ad7-5c95-b33c-f28dbf61753a-ddl\n",
      "Add of existing embedding ID: 741b4927-caa0-5b7a-8637-1d3eff393359-ddl\n",
      "Insert of existing embedding ID: 968ca8d9-6a7d-5591-a2f7-f1e3f74f2dec-ddl\n",
      "Add of existing embedding ID: 968ca8d9-6a7d-5591-a2f7-f1e3f74f2dec-ddl\n"
     ]
    },
    {
     "name": "stdout",
     "output_type": "stream",
     "text": [
      "正在训练表 asset_grades 的schema...\n",
      "Adding ddl: CREATE TABLE `asset_grades` (\n",
      "  `asset_level` varchar(255) CHARACTER SET utf8 COLLATE utf8_general_ci NOT NULL COMMENT '身高等级',\n",
      "  `asset_lowest` float(8,2) NOT NULL COMMENT '该等级范围中的最低身高',\n",
      "  `asset_highest` float(8,2) NOT NULL COMMENT '该等级范围中的最高身高'\n",
      ") ENGINE=InnoDB DEFAULT CHARSET=utf8mb3\n"
     ]
    },
    {
     "name": "stderr",
     "output_type": "stream",
     "text": [
      "Insert of existing embedding ID: 592b142c-16ab-5714-990b-40d46d654d74-ddl\n",
      "Add of existing embedding ID: 592b142c-16ab-5714-990b-40d46d654d74-ddl\n",
      "Insert of existing embedding ID: ad2162eb-7d2c-5b00-ae6c-a3e34012c9b7-ddl\n",
      "Add of existing embedding ID: ad2162eb-7d2c-5b00-ae6c-a3e34012c9b7-ddl\n"
     ]
    },
    {
     "name": "stdout",
     "output_type": "stream",
     "text": [
      "正在训练表 bank 的schema...\n",
      "Adding ddl: CREATE TABLE `bank` (\n",
      "  `bank_id` int NOT NULL COMMENT '球队ID',\n",
      "  `bank_name` varchar(255) CHARACTER SET utf8 COLLATE utf8_general_ci NOT NULL COMMENT '球队名称',\n",
      "  PRIMARY KEY (`bank_id`) USING BTREE\n",
      ") ENGINE=InnoDB DEFAULT CHARSET=utf8mb3\n",
      "正在训练表 car_sales 的schema...\n",
      "Adding ddl: CREATE TABLE `car_sales` (\n",
      "  `序号` int DEFAULT NULL,\n",
      "  `地区` varchar(255) DEFAULT NULL,\n",
      "  `城市` varchar(255) DEFAULT NULL,\n",
      "  `销售日期` date DEFAULT NULL,\n",
      "  `品牌` varchar(255) DEFAULT NULL,\n",
      "  `车系` varchar(255) DEFAULT NULL,\n",
      "  `车型` varchar(255) DEFAULT NULL,\n",
      "  `销量` int DEFAULT NULL,\n",
      "  `价格(万)` int DEFAULT NULL,\n",
      "  `销售额(万)` int DEFAULT NULL\n",
      ") ENGINE=InnoDB DEFAULT CHARSET=utf8mb3\n"
     ]
    },
    {
     "name": "stderr",
     "output_type": "stream",
     "text": [
      "Insert of existing embedding ID: 116ea84c-eb03-5273-b8bf-c0bb972abd35-ddl\n",
      "Add of existing embedding ID: 116ea84c-eb03-5273-b8bf-c0bb972abd35-ddl\n",
      "Insert of existing embedding ID: 3eaa085d-6546-5717-bffa-e4ef824262e8-ddl\n",
      "Add of existing embedding ID: 3eaa085d-6546-5717-bffa-e4ef824262e8-ddl\n"
     ]
    },
    {
     "name": "stdout",
     "output_type": "stream",
     "text": [
      "正在训练表 customers 的schema...\n",
      "Adding ddl: CREATE TABLE `customers` (\n",
      "  `Id` int DEFAULT NULL,\n",
      "  `Name` varchar(255) DEFAULT NULL\n",
      ") ENGINE=InnoDB DEFAULT CHARSET=utf8mb3\n",
      "正在训练表 dept 的schema...\n",
      "Adding ddl: CREATE TABLE `dept` (\n",
      "  `dept_id` int NOT NULL,\n",
      "  `dept_name` varchar(100) DEFAULT NULL,\n",
      "  `partent_id` int DEFAULT NULL\n",
      ") ENGINE=InnoDB DEFAULT CHARSET=utf8mb3\n"
     ]
    },
    {
     "name": "stderr",
     "output_type": "stream",
     "text": [
      "Insert of existing embedding ID: 48442f30-bd8e-5f2a-bdd6-b2c14f56afae-ddl\n",
      "Add of existing embedding ID: 48442f30-bd8e-5f2a-bdd6-b2c14f56afae-ddl\n",
      "Insert of existing embedding ID: ace310a8-97a0-520e-b9eb-cd61eeb9d71a-ddl\n",
      "Add of existing embedding ID: ace310a8-97a0-520e-b9eb-cd61eeb9d71a-ddl\n"
     ]
    },
    {
     "name": "stdout",
     "output_type": "stream",
     "text": [
      "正在训练表 employee 的schema...\n",
      "Adding ddl: CREATE TABLE `employee` (\n",
      "  `Id` int DEFAULT NULL,\n",
      "  `Name` varchar(255) DEFAULT NULL,\n",
      "  `Salary` int DEFAULT NULL,\n",
      "  `ManagerId` int DEFAULT NULL\n",
      ") ENGINE=InnoDB DEFAULT CHARSET=utf8mb3\n",
      "正在训练表 form 的schema...\n",
      "Adding ddl: CREATE TABLE `form` (\n",
      "  `form_id` int DEFAULT NULL,\n",
      "  `form_name` varchar(100) DEFAULT NULL,\n",
      "  `status` varchar(1) DEFAULT NULL\n",
      ") ENGINE=InnoDB DEFAULT CHARSET=utf8mb3\n"
     ]
    },
    {
     "name": "stderr",
     "output_type": "stream",
     "text": [
      "Insert of existing embedding ID: 03dc29b6-f9a3-5b4f-914b-c77f79cd9d73-ddl\n",
      "Add of existing embedding ID: 03dc29b6-f9a3-5b4f-914b-c77f79cd9d73-ddl\n"
     ]
    },
    {
     "name": "stdout",
     "output_type": "stream",
     "text": [
      "正在训练表 height_grades 的schema...\n",
      "Adding ddl: CREATE TABLE `height_grades` (\n",
      "  `height_level` varchar(255) CHARACTER SET utf8 COLLATE utf8_general_ci NOT NULL COMMENT '身高等级',\n",
      "  `height_lowest` float(3,2) NOT NULL COMMENT '该等级范围中的最低身高',\n",
      "  `height_highest` float(3,2) NOT NULL COMMENT '该等级范围中的最高身高'\n",
      ") ENGINE=InnoDB DEFAULT CHARSET=utf8mb3\n"
     ]
    },
    {
     "name": "stderr",
     "output_type": "stream",
     "text": [
      "Insert of existing embedding ID: f07056be-a094-5334-abf4-a3335ea9d581-ddl\n",
      "Add of existing embedding ID: f07056be-a094-5334-abf4-a3335ea9d581-ddl\n"
     ]
    },
    {
     "name": "stdout",
     "output_type": "stream",
     "text": [
      "正在训练表 hero_score 的schema...\n",
      "Adding ddl: CREATE TABLE `hero_score` (\n",
      "  `id` int NOT NULL AUTO_INCREMENT,\n",
      "  `score` int NOT NULL DEFAULT '0',\n",
      "  `name` varchar(20) CHARACTER SET utf8mb4 COLLATE utf8mb4_0900_ai_ci DEFAULT NULL,\n",
      "  PRIMARY KEY (`id`) USING BTREE\n",
      ") ENGINE=InnoDB AUTO_INCREMENT=10 DEFAULT CHARSET=utf8mb4 COLLATE=utf8mb4_0900_ai_ci\n"
     ]
    },
    {
     "name": "stderr",
     "output_type": "stream",
     "text": [
      "Insert of existing embedding ID: a52fc03d-491d-5f32-a8cc-042c386766d6-ddl\n",
      "Add of existing embedding ID: a52fc03d-491d-5f32-a8cc-042c386766d6-ddl\n",
      "Insert of existing embedding ID: 588c19a6-86be-5e8d-bbb6-2cb94688c657-ddl\n",
      "Add of existing embedding ID: 588c19a6-86be-5e8d-bbb6-2cb94688c657-ddl\n"
     ]
    },
    {
     "name": "stdout",
     "output_type": "stream",
     "text": [
      "正在训练表 heros 的schema...\n",
      "Adding ddl: CREATE TABLE `heros` (\n",
      "  `id` int NOT NULL AUTO_INCREMENT,\n",
      "  `name` varchar(255) CHARACTER SET utf8 COLLATE utf8_general_ci NOT NULL,\n",
      "  `hp_max` float DEFAULT NULL,\n",
      "  `hp_growth` float DEFAULT NULL,\n",
      "  `hp_start` float DEFAULT NULL,\n",
      "  `mp_max` float DEFAULT NULL,\n",
      "  `mp_growth` float DEFAULT NULL,\n",
      "  `mp_start` float DEFAULT NULL,\n",
      "  `attack_max` float DEFAULT NULL,\n",
      "  `attack_growth` float DEFAULT NULL,\n",
      "  `attack_start` float DEFAULT NULL,\n",
      "  `defense_max` float DEFAULT NULL,\n",
      "  `defense_growth` float DEFAULT NULL,\n",
      "  `defense_start` float DEFAULT NULL,\n",
      "  `hp_5s_max` float DEFAULT NULL,\n",
      "  `hp_5s_growth` float DEFAULT NULL,\n",
      "  `hp_5s_start` float DEFAULT NULL,\n",
      "  `mp_5s_max` float DEFAULT NULL,\n",
      "  `mp_5s_growth` float DEFAULT NULL,\n",
      "  `mp_5s_start` float DEFAULT NULL,\n",
      "  `attack_speed_max` float DEFAULT NULL,\n",
      "  `attack_range` varchar(255) CHARACTER SET utf8 COLLATE utf8_general_ci DEFAULT NULL,\n",
      "  `role_main` varchar(255) CHARACTER SET utf8 COLLATE utf8_general_ci DEFAULT NULL,\n",
      "  `role_assist` varchar(255) CHARACTER SET utf8 COLLATE utf8_general_ci DEFAULT NULL,\n",
      "  `birthdate` date DEFAULT NULL,\n",
      "  PRIMARY KEY (`id`) USING BTREE\n",
      ") ENGINE=InnoDB AUTO_INCREMENT=10069 DEFAULT CHARSET=utf8mb3\n",
      "正在训练表 orders 的schema...\n",
      "Adding ddl: CREATE TABLE `orders` (\n",
      "  `Id` int DEFAULT NULL,\n",
      "  `CustomerId` int DEFAULT NULL\n",
      ") ENGINE=InnoDB DEFAULT CHARSET=utf8mb3\n"
     ]
    },
    {
     "name": "stderr",
     "output_type": "stream",
     "text": [
      "Insert of existing embedding ID: d55fb937-f008-5c79-adf9-4a3ba980b270-ddl\n",
      "Add of existing embedding ID: d55fb937-f008-5c79-adf9-4a3ba980b270-ddl\n",
      "Insert of existing embedding ID: 6fb181e6-83b6-52cd-ac16-10661684c2b9-ddl\n"
     ]
    },
    {
     "name": "stdout",
     "output_type": "stream",
     "text": [
      "正在训练表 person 的schema...\n",
      "Adding ddl: CREATE TABLE `person` (\n",
      "  `PersonId` int DEFAULT NULL,\n",
      "  `FirstName` varchar(255) CHARACTER SET utf8mb4 COLLATE utf8mb4_0900_ai_ci DEFAULT NULL,\n",
      "  `LastName` varchar(255) CHARACTER SET utf8mb4 COLLATE utf8mb4_0900_ai_ci DEFAULT NULL\n",
      ") ENGINE=InnoDB DEFAULT CHARSET=utf8mb4 COLLATE=utf8mb4_0900_ai_ci\n"
     ]
    },
    {
     "name": "stderr",
     "output_type": "stream",
     "text": [
      "Add of existing embedding ID: 6fb181e6-83b6-52cd-ac16-10661684c2b9-ddl\n"
     ]
    },
    {
     "name": "stdout",
     "output_type": "stream",
     "text": [
      "正在训练表 player 的schema...\n",
      "Adding ddl: CREATE TABLE `player` (\n",
      "  `player_id` int NOT NULL AUTO_INCREMENT COMMENT '球员ID',\n",
      "  `team_id` int NOT NULL COMMENT '球队ID',\n",
      "  `player_name` varchar(255) CHARACTER SET utf8 COLLATE utf8_general_ci NOT NULL COMMENT '球员姓名',\n",
      "  `height` float(3,2) DEFAULT NULL COMMENT '球员身高',\n",
      "  PRIMARY KEY (`player_id`) USING BTREE,\n",
      "  UNIQUE KEY `player_name` (`player_name`) USING BTREE\n",
      ") ENGINE=InnoDB AUTO_INCREMENT=10050 DEFAULT CHARSET=utf8mb3\n"
     ]
    },
    {
     "name": "stderr",
     "output_type": "stream",
     "text": [
      "Insert of existing embedding ID: 9582eef6-6225-5b39-a35b-ffaf22bfcb7c-ddl\n",
      "Add of existing embedding ID: 9582eef6-6225-5b39-a35b-ffaf22bfcb7c-ddl\n"
     ]
    },
    {
     "name": "stdout",
     "output_type": "stream",
     "text": [
      "正在训练表 player_score 的schema...\n",
      "Adding ddl: CREATE TABLE `player_score` (\n",
      "  `game_id` int NOT NULL COMMENT '比赛ID',\n",
      "  `player_id` int NOT NULL COMMENT '球员ID',\n",
      "  `is_first` tinyint(1) NOT NULL COMMENT '是否首发',\n",
      "  `playing_time` int NOT NULL COMMENT '该球员本次比赛出场时间',\n",
      "  `rebound` int NOT NULL COMMENT '篮板球',\n",
      "  `rebound_o` int NOT NULL COMMENT '前场篮板',\n",
      "  `rebound_d` int NOT NULL COMMENT '后场篮板',\n",
      "  `assist` int NOT NULL COMMENT '助攻',\n",
      "  `score` int NOT NULL COMMENT '比分',\n",
      "  `steal` int NOT NULL COMMENT '抢断',\n",
      "  `blockshot` int NOT NULL COMMENT '盖帽',\n",
      "  `fault` int NOT NULL COMMENT '失误',\n",
      "  `foul` int NOT NULL COMMENT '犯规',\n",
      "  `shoot_attempts` int NOT NULL COMMENT '总出手',\n",
      "  `shoot_hits` int NOT NULL COMMENT '命中',\n",
      "  `shoot_3_attempts` int NOT NULL COMMENT '3分出手',\n",
      "  `shoot_3_hits` int NOT NULL COMMENT '3分命中',\n",
      "  `shoot_p_attempts` int NOT NULL COMMENT '罚球出手',\n",
      "  `shoot_p_hits` int NOT NULL COMMENT '罚球命中'\n",
      ") ENGINE=InnoDB DEFAULT CHARSET=utf8mb3\n"
     ]
    },
    {
     "name": "stderr",
     "output_type": "stream",
     "text": [
      "Insert of existing embedding ID: dc08e8a6-9459-59d5-b31d-914564aed2fc-ddl\n",
      "Add of existing embedding ID: dc08e8a6-9459-59d5-b31d-914564aed2fc-ddl\n"
     ]
    },
    {
     "name": "stdout",
     "output_type": "stream",
     "text": [
      "正在训练表 student 的schema...\n",
      "Adding ddl: CREATE TABLE `student` (\n",
      "  `SId` varchar(10) DEFAULT NULL,\n",
      "  `Sname` varchar(10) DEFAULT NULL,\n",
      "  `Sage` datetime DEFAULT NULL,\n",
      "  `Ssex` varchar(10) DEFAULT NULL\n",
      ") ENGINE=InnoDB DEFAULT CHARSET=utf8mb3\n"
     ]
    },
    {
     "name": "stderr",
     "output_type": "stream",
     "text": [
      "Insert of existing embedding ID: 6eede8de-5682-58ee-bcf4-701e63955803-ddl\n",
      "Add of existing embedding ID: 6eede8de-5682-58ee-bcf4-701e63955803-ddl\n"
     ]
    },
    {
     "name": "stdout",
     "output_type": "stream",
     "text": [
      "正在训练表 team 的schema...\n",
      "Adding ddl: CREATE TABLE `team` (\n",
      "  `team_id` int NOT NULL COMMENT '球队ID',\n",
      "  `team_name` varchar(255) CHARACTER SET utf8 COLLATE utf8_general_ci NOT NULL COMMENT '球队名称',\n",
      "  PRIMARY KEY (`team_id`) USING BTREE\n",
      ") ENGINE=InnoDB DEFAULT CHARSET=utf8mb3\n"
     ]
    },
    {
     "name": "stderr",
     "output_type": "stream",
     "text": [
      "Insert of existing embedding ID: ea67f184-5b8c-5628-ae62-1590de73e75c-ddl\n",
      "Add of existing embedding ID: ea67f184-5b8c-5628-ae62-1590de73e75c-ddl\n"
     ]
    },
    {
     "name": "stdout",
     "output_type": "stream",
     "text": [
      "正在训练表 team_score 的schema...\n",
      "Adding ddl: CREATE TABLE `team_score` (\n",
      "  `game_id` int NOT NULL COMMENT '比赛ID',\n",
      "  `h_team_id` int NOT NULL COMMENT '主队ID',\n",
      "  `v_team_id` int NOT NULL COMMENT '客队ID',\n",
      "  `h_team_score` int NOT NULL COMMENT '主队得分',\n",
      "  `v_team_score` int NOT NULL COMMENT '客队得分',\n",
      "  `game_date` date DEFAULT NULL COMMENT '比赛时间',\n",
      "  PRIMARY KEY (`game_id`) USING BTREE\n",
      ") ENGINE=InnoDB DEFAULT CHARSET=utf8mb3\n"
     ]
    },
    {
     "name": "stderr",
     "output_type": "stream",
     "text": [
      "Insert of existing embedding ID: 77a616a4-0097-591c-baca-6a3a2114edaa-ddl\n",
      "Add of existing embedding ID: 77a616a4-0097-591c-baca-6a3a2114edaa-ddl\n",
      "Insert of existing embedding ID: c2ffcb9d-fd57-502b-9987-e0457ce477b8-ddl\n",
      "Add of existing embedding ID: c2ffcb9d-fd57-502b-9987-e0457ce477b8-ddl\n",
      "Insert of existing embedding ID: 708d59ee-9d7d-59b7-b6ba-7ceaf14993dd-ddl\n"
     ]
    },
    {
     "name": "stdout",
     "output_type": "stream",
     "text": [
      "正在训练表 test_work 的schema...\n",
      "Adding ddl: CREATE TABLE `test_work` (\n",
      "  `xitong` varchar(100) CHARACTER SET utf8 COLLATE utf8_general_ci DEFAULT NULL,\n",
      "  `people` varchar(100) DEFAULT NULL,\n",
      "  `table_jc` varchar(100) DEFAULT NULL,\n",
      "  `table_zwm` varchar(100) DEFAULT NULL,\n",
      "  `ziduan` varchar(100) DEFAULT NULL,\n",
      "  `ziduan_zwm` varchar(100) DEFAULT NULL\n",
      ") ENGINE=InnoDB DEFAULT CHARSET=utf8mb3\n",
      "正在训练表 trips 的schema...\n",
      "Adding ddl: CREATE TABLE `trips` (\n",
      "  `Id` int DEFAULT NULL,\n",
      "  `Client_Id` int DEFAULT NULL,\n",
      "  `Driver_Id` int DEFAULT NULL,\n",
      "  `City_Id` int DEFAULT NULL,\n",
      "  `Status` enum('completed','cancelled_by_driver','cancelled_by_client') DEFAULT NULL,\n",
      "  `Request_at` varchar(50) DEFAULT NULL\n",
      ") ENGINE=InnoDB DEFAULT CHARSET=utf8mb3\n"
     ]
    },
    {
     "name": "stderr",
     "output_type": "stream",
     "text": [
      "Add of existing embedding ID: 708d59ee-9d7d-59b7-b6ba-7ceaf14993dd-ddl\n"
     ]
    },
    {
     "name": "stdout",
     "output_type": "stream",
     "text": [
      "正在训练表 user 的schema...\n",
      "Adding ddl: CREATE TABLE `user` (\n",
      "  `user_id` int NOT NULL AUTO_INCREMENT,\n",
      "  `gender` varchar(255) NOT NULL,\n",
      "  `name` varchar(255) CHARACTER SET utf8 COLLATE utf8_general_ci NOT NULL,\n",
      "  `asset` float DEFAULT NULL,\n",
      "  `role` varchar(255) CHARACTER SET utf8 COLLATE utf8_general_ci DEFAULT NULL,\n",
      "  `birthdate` date DEFAULT NULL,\n",
      "  `bank_id` int DEFAULT NULL,\n",
      "  `tag` varchar(100) DEFAULT NULL,\n",
      "  PRIMARY KEY (`user_id`) USING BTREE\n",
      ") ENGINE=InnoDB AUTO_INCREMENT=10069 DEFAULT CHARSET=utf8mb3\n"
     ]
    },
    {
     "name": "stderr",
     "output_type": "stream",
     "text": [
      "Insert of existing embedding ID: bde85cb8-9900-54d4-9258-f9d069c84398-ddl\n",
      "Add of existing embedding ID: bde85cb8-9900-54d4-9258-f9d069c84398-ddl\n",
      "Insert of existing embedding ID: 57a7f9e7-6ad7-5c95-b33c-f28dbf61753a-ddl\n",
      "Add of existing embedding ID: 57a7f9e7-6ad7-5c95-b33c-f28dbf61753a-ddl\n"
     ]
    },
    {
     "name": "stdout",
     "output_type": "stream",
     "text": [
      "正在训练表 users 的schema...\n",
      "Adding ddl: CREATE TABLE `users` (\n",
      "  `Users_Id` int DEFAULT NULL,\n",
      "  `Banned` varchar(50) DEFAULT NULL,\n",
      "  `Role` enum('client','driver','partner') DEFAULT NULL\n",
      ") ENGINE=InnoDB DEFAULT CHARSET=utf8mb3\n",
      "训练表 using 失败: 1064 (42000): You have an error in your SQL syntax; check the manual that corresponds to your MySQL server version for the right syntax to use near 'using' at line 1\n",
      "正在训练表 weather 的schema...\n",
      "Adding ddl: CREATE TABLE `weather` (\n",
      "  `Id` int DEFAULT NULL,\n",
      "  `RecordDate` date DEFAULT NULL,\n",
      "  `Temperature` int DEFAULT NULL\n",
      ") ENGINE=InnoDB DEFAULT CHARSET=utf8mb4 COLLATE=utf8mb4_0900_ai_ci\n"
     ]
    },
    {
     "name": "stderr",
     "output_type": "stream",
     "text": [
      "Insert of existing embedding ID: 741b4927-caa0-5b7a-8637-1d3eff393359-ddl\n",
      "Add of existing embedding ID: 741b4927-caa0-5b7a-8637-1d3eff393359-ddl\n"
     ]
    },
    {
     "name": "stdout",
     "output_type": "stream",
     "text": [
      "Schema训练完成\n"
     ]
    },
    {
     "name": "stderr",
     "output_type": "stream",
     "text": [
      "Add of existing embedding ID: 765afe57-9b0d-5bbb-a1b4-2095309e0022-sql\n",
      "Number of requested results 10 is greater than number of elements in index 1, updating n_results = 1\n"
     ]
    },
    {
     "name": "stdout",
     "output_type": "stream",
     "text": [
      "SQL Prompt: [{'role': 'system', 'content': \"You are a SQL expert. Please help to generate a SQL query to answer the question. Your response should ONLY be based on the given context and follow the response guidelines and format instructions. \\n===Tables \\nCREATE TABLE `hero_score` (\\n  `id` int NOT NULL AUTO_INCREMENT,\\n  `score` int NOT NULL DEFAULT '0',\\n  `name` varchar(20) CHARACTER SET utf8mb4 COLLATE utf8mb4_0900_ai_ci DEFAULT NULL,\\n  PRIMARY KEY (`id`) USING BTREE\\n) ENGINE=InnoDB AUTO_INCREMENT=10 DEFAULT CHARSET=utf8mb4 COLLATE=utf8mb4_0900_ai_ci\\n\\nCREATE TABLE `heros` (\\n  `id` int NOT NULL AUTO_INCREMENT,\\n  `name` varchar(255) CHARACTER SET utf8 COLLATE utf8_general_ci NOT NULL,\\n  `hp_max` float DEFAULT NULL,\\n  `hp_growth` float DEFAULT NULL,\\n  `hp_start` float DEFAULT NULL,\\n  `mp_max` float DEFAULT NULL,\\n  `mp_growth` float DEFAULT NULL,\\n  `mp_start` float DEFAULT NULL,\\n  `attack_max` float DEFAULT NULL,\\n  `attack_growth` float DEFAULT NULL,\\n  `attack_start` float DEFAULT NULL,\\n  `defense_max` float DEFAULT NULL,\\n  `defense_growth` float DEFAULT NULL,\\n  `defense_start` float DEFAULT NULL,\\n  `hp_5s_max` float DEFAULT NULL,\\n  `hp_5s_growth` float DEFAULT NULL,\\n  `hp_5s_start` float DEFAULT NULL,\\n  `mp_5s_max` float DEFAULT NULL,\\n  `mp_5s_growth` float DEFAULT NULL,\\n  `mp_5s_start` float DEFAULT NULL,\\n  `attack_speed_max` float DEFAULT NULL,\\n  `attack_range` varchar(255) CHARACTER SET utf8 COLLATE utf8_general_ci DEFAULT NULL,\\n  `role_main` varchar(255) CHARACTER SET utf8 COLLATE utf8_general_ci DEFAULT NULL,\\n  `role_assist` varchar(255) CHARACTER SET utf8 COLLATE utf8_general_ci DEFAULT NULL,\\n  `birthdate` date DEFAULT NULL,\\n  PRIMARY KEY (`id`) USING BTREE\\n) ENGINE=InnoDB AUTO_INCREMENT=10069 DEFAULT CHARSET=utf8mb3\\n\\nCREATE TABLE `asset_grades` (\\n  `asset_level` varchar(255) CHARACTER SET utf8 COLLATE utf8_general_ci NOT NULL COMMENT '身高等级',\\n  `asset_lowest` float(8,2) NOT NULL COMMENT '该等级范围中的最低身高',\\n  `asset_highest` float(8,2) NOT NULL COMMENT '该等级范围中的最高身高'\\n) ENGINE=InnoDB DEFAULT CHARSET=utf8mb3\\n\\nCREATE TABLE `team` (\\n  `team_id` int NOT NULL COMMENT '球队ID',\\n  `team_name` varchar(255) CHARACTER SET utf8 COLLATE utf8_general_ci NOT NULL COMMENT '球队名称',\\n  PRIMARY KEY (`team_id`) USING BTREE\\n) ENGINE=InnoDB DEFAULT CHARSET=utf8mb3\\n\\nCREATE TABLE `team_score` (\\n  `game_id` int NOT NULL COMMENT '比赛ID',\\n  `h_team_id` int NOT NULL COMMENT '主队ID',\\n  `v_team_id` int NOT NULL COMMENT '客队ID',\\n  `h_team_score` int NOT NULL COMMENT '主队得分',\\n  `v_team_score` int NOT NULL COMMENT '客队得分',\\n  `game_date` date DEFAULT NULL COMMENT '比赛时间',\\n  PRIMARY KEY (`game_id`) USING BTREE\\n) ENGINE=InnoDB DEFAULT CHARSET=utf8mb3\\n\\nCREATE TABLE `player` (\\n  `player_id` int NOT NULL AUTO_INCREMENT COMMENT '球员ID',\\n  `team_id` int NOT NULL COMMENT '球队ID',\\n  `player_name` varchar(255) CHARACTER SET utf8 COLLATE utf8_general_ci NOT NULL COMMENT '球员姓名',\\n  `height` float(3,2) DEFAULT NULL COMMENT '球员身高',\\n  PRIMARY KEY (`player_id`) USING BTREE,\\n  UNIQUE KEY `player_name` (`player_name`) USING BTREE\\n) ENGINE=InnoDB AUTO_INCREMENT=10050 DEFAULT CHARSET=utf8mb3\\n\\nCREATE TABLE `player_score` (\\n  `game_id` int NOT NULL COMMENT '比赛ID',\\n  `player_id` int NOT NULL COMMENT '球员ID',\\n  `is_first` tinyint(1) NOT NULL COMMENT '是否首发',\\n  `playing_time` int NOT NULL COMMENT '该球员本次比赛出场时间',\\n  `rebound` int NOT NULL COMMENT '篮板球',\\n  `rebound_o` int NOT NULL COMMENT '前场篮板',\\n  `rebound_d` int NOT NULL COMMENT '后场篮板',\\n  `assist` int NOT NULL COMMENT '助攻',\\n  `score` int NOT NULL COMMENT '比分',\\n  `steal` int NOT NULL COMMENT '抢断',\\n  `blockshot` int NOT NULL COMMENT '盖帽',\\n  `fault` int NOT NULL COMMENT '失误',\\n  `foul` int NOT NULL COMMENT '犯规',\\n  `shoot_attempts` int NOT NULL COMMENT '总出手',\\n  `shoot_hits` int NOT NULL COMMENT '命中',\\n  `shoot_3_attempts` int NOT NULL COMMENT '3分出手',\\n  `shoot_3_hits` int NOT NULL COMMENT '3分命中',\\n  `shoot_p_attempts` int NOT NULL COMMENT '罚球出手',\\n  `shoot_p_hits` int NOT NULL COMMENT '罚球命中'\\n) ENGINE=InnoDB DEFAULT CHARSET=utf8mb3\\n\\nCREATE TABLE `bank` (\\n  `bank_id` int NOT NULL COMMENT '球队ID',\\n  `bank_name` varchar(255) CHARACTER SET utf8 COLLATE utf8_general_ci NOT NULL COMMENT '球队名称',\\n  PRIMARY KEY (`bank_id`) USING BTREE\\n) ENGINE=InnoDB DEFAULT CHARSET=utf8mb3\\n\\nCREATE TABLE `form` (\\n  `form_id` int DEFAULT NULL,\\n  `form_name` varchar(100) DEFAULT NULL,\\n  `status` varchar(1) DEFAULT NULL\\n) ENGINE=InnoDB DEFAULT CHARSET=utf8mb3\\n\\nCREATE TABLE `student` (\\n  `SId` varchar(10) DEFAULT NULL,\\n  `Sname` varchar(10) DEFAULT NULL,\\n  `Sage` datetime DEFAULT NULL,\\n  `Ssex` varchar(10) DEFAULT NULL\\n) ENGINE=InnoDB DEFAULT CHARSET=utf8mb3\\n\\n===Response Guidelines \\n1. If the provided context is sufficient, please generate a valid SQL query without any explanations for the question. \\n2. If the provided context is almost sufficient but requires knowledge of a specific string in a particular column, please generate an intermediate SQL query to find the distinct strings in that column. Prepend the query with a comment saying intermediate_sql \\n3. If the provided context is insufficient, please explain why it can't be generated. \\n4. Please use the most relevant table(s). \\n5. If the question has been asked and answered before, please repeat the answer exactly as it was given before. \\n6. Ensure that the output SQL is SQL-compliant and executable, and free of syntax errors. \\n\"}, {'role': 'user', 'content': '找出英雄攻击力最高的前5个英雄'}, {'role': 'assistant', 'content': 'SELECT name, score\\nFROM hero_score\\nORDER BY score DESC\\nLIMIT 5;'}, {'role': 'user', 'content': '查询heros表中 英雄攻击力前5名的英雄'}]\n",
      "Using model gpt-4o-mini for 1342.25 tokens (approx)\n",
      "LLM Response: SELECT name, attack_max\n",
      "FROM heros\n",
      "ORDER BY attack_max DESC\n",
      "LIMIT 5;\n",
      "Extracted SQL: SELECT name, attack_max\n",
      "FROM heros\n",
      "ORDER BY attack_max DESC\n",
      "LIMIT 5;\n",
      "SELECT name, attack_max\n",
      "FROM heros\n",
      "ORDER BY attack_max DESC\n",
      "LIMIT 5;\n",
      "   name  attack_max\n",
      "0    阿轲       427.0\n",
      "1   孙尚香       411.0\n",
      "2  百里守约       410.0\n",
      "3    虞姬       407.0\n",
      "4    黄忠       403.0\n",
      "Using model gpt-4o-mini for 173.25 tokens (approx)\n"
     ]
    }
   ],
   "source": [
    "from vanna.openai import OpenAI_Chat\n",
    "from vanna.chromadb.chromadb_vector import ChromaDB_VectorStore\n",
    "import mysql.connector\n",
    "import time\n",
    "from openai import OpenAI\n",
    "\n",
    "class MyVanna(ChromaDB_VectorStore, OpenAI_Chat):\n",
    "    def __init__(self, config=None):\n",
    "        # 分离配置，只将OpenAI客户端传递给OpenAI_Chat\n",
    "        chroma_config = config.copy() if config else {}\n",
    "        openai_config = config.copy() if config else {}\n",
    "        \n",
    "        # 保存client到实例属性\n",
    "        if config and 'client' in config:\n",
    "            self.client = config['client']\n",
    "        else:\n",
    "            self.client = None\n",
    "        \n",
    "        # 从chroma_config中移除client\n",
    "        if 'client' in chroma_config:\n",
    "            del chroma_config['client']\n",
    "            \n",
    "        # 初始化两个基类\n",
    "        ChromaDB_VectorStore.__init__(self, config=chroma_config)\n",
    "        OpenAI_Chat.__init__(self, config=openai_config)\n",
    "\n",
    "# 创建OpenAI客户端\n",
    "client = OpenAI(\n",
    "    api_key='sk-mi9MCut4OAAfY4SUE8a4fCQBLfMZPZpV5an6Ove0PPUSVVBq',\n",
    "    base_url='https://chatapi.littlewheat.com/v1'\n",
    ")\n",
    "\n",
    "# 初始化Vanna实例\n",
    "vn = MyVanna(config={\n",
    "    'model': 'gpt-4o-mini', \n",
    "    'client': client\n",
    "})\n",
    "\n",
    "vn.connect_to_mysql(host='rm-uf6z891lon6dxuqblqo.mysql.rds.aliyuncs.com', \n",
    "                    dbname='action', user='student123', password='student321', port=3306)\n",
    "\n",
    "# 连接到MySQL数据库\n",
    "try:\n",
    "    connection = mysql.connector.connect(\n",
    "        host='rm-uf6z891lon6dxuqblqo.mysql.rds.aliyuncs.com',\n",
    "        database='action',\n",
    "        user='student123',\n",
    "        password='student321',\n",
    "        port=3306\n",
    "    )\n",
    "    print(\"成功连接到MySQL数据库\")\n",
    "    \n",
    "    # 获取所有表名\n",
    "    cursor = connection.cursor()\n",
    "    cursor.execute(\"\"\"\n",
    "        SELECT TABLE_NAME \n",
    "        FROM information_schema.TABLES \n",
    "        WHERE TABLE_SCHEMA = 'action'\n",
    "    \"\"\")\n",
    "    tables = cursor.fetchall()\n",
    "    \n",
    "    # 训练每个表的schema\n",
    "    for (table_name,) in tables:\n",
    "        try:\n",
    "            # 获取表的创建语句\n",
    "            cursor.execute(f\"SHOW CREATE TABLE {table_name}\")\n",
    "            _, create_table = cursor.fetchone()\n",
    "            \n",
    "            print(f\"正在训练表 {table_name} 的schema...\")\n",
    "            vn.train(ddl=create_table)\n",
    "            \n",
    "        except Exception as e:\n",
    "            print(f\"训练表 {table_name} 失败: {str(e)}\")\n",
    "            continue\n",
    "    \n",
    "    print(\"Schema训练完成\")\n",
    "    \n",
    "    # 示例：使用Vanna进行自然语言查询\n",
    "    #question = \"找出英雄攻击力最高的前5个英雄\"\n",
    "    #print(f\"\\n问题: {question}\")\n",
    "    #vn.ask(question)\n",
    "    #vn.ask(\"查询heros表中 英雄攻击力前5名的英雄\")\n",
    "    sql=vn.generate_sql(\"查询heros表中 英雄攻击力前5名的英雄\")\n",
    "    print('sql=', sql)\n",
    "    df = vn.run_sql(sql)\n",
    "    print('df=', df)\n",
    "    \n",
    "except mysql.connector.Error as err:\n",
    "    print(f\"数据库连接错误: {err}\")\n",
    "finally:\n",
    "    if 'connection' in locals() and connection.is_connected():\n",
    "        cursor.close()\n",
    "        connection.close()\n",
    "        print(\"MySQL连接已关闭\")"
   ]
  },
  {
   "cell_type": "code",
   "execution_count": null,
   "id": "504da5fd-70fc-4d16-b198-8a373e358af1",
   "metadata": {},
   "outputs": [],
   "source": [
    "# #help(vn.ask)\n",
    "# #vn.ask(\"查询heros表中 英雄攻击力前5名的英雄\")\n",
    "# sql=vn.generate_sql(\"查询heros表中 英雄攻击力前5名的英雄\")\n",
    "# print('sql=', sql)\n",
    "# vn.run_sql(sql)"
   ]
  }
 ],
 "metadata": {
  "kernelspec": {
   "display_name": "Python 3 (ipykernel)",
   "language": "python",
   "name": "python3"
  },
  "language_info": {
   "codemirror_mode": {
    "name": "ipython",
    "version": 3
   },
   "file_extension": ".py",
   "mimetype": "text/x-python",
   "name": "python",
   "nbconvert_exporter": "python",
   "pygments_lexer": "ipython3",
   "version": "3.11.6"
  }
 },
 "nbformat": 4,
 "nbformat_minor": 5
}
